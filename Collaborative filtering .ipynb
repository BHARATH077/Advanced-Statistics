{
 "cells": [
  {
   "cell_type": "markdown",
   "id": "c008420b",
   "metadata": {},
   "source": [
    "# Collaborative filtering using implicit feedback"
   ]
  },
  {
   "cell_type": "markdown",
   "id": "237faf96",
   "metadata": {},
   "source": [
    "## Importing Libraries"
   ]
  },
  {
   "cell_type": "code",
   "execution_count": 1,
   "id": "ac0317f3",
   "metadata": {},
   "outputs": [],
   "source": [
    "import numpy as np\n",
    "import pandas as pd\n",
    "from scipy.sparse import csr_matrix\n",
    "\n",
    "import implicit\n",
    "\n",
    "import warnings\n",
    "warnings.simplefilter(action='ignore', category=FutureWarning)"
   ]
  },
  {
   "cell_type": "markdown",
   "id": "836bdc5d",
   "metadata": {},
   "source": [
    "## Loading the Dataset"
   ]
  },
  {
   "cell_type": "markdown",
   "id": "a1faabfa",
   "metadata": {},
   "source": [
    "### We are going to load the dataset \"MovieLens\" which has two of the following files\n",
    "- ratings.csv\n",
    "- movies.csv"
   ]
  },
  {
   "cell_type": "code",
   "execution_count": 2,
   "id": "fa2be9ad",
   "metadata": {},
   "outputs": [],
   "source": [
    "ratings = pd.read_csv('/Users/bharath/Documents/ASm/ratings.csv')\n",
    "movies = pd.read_csv('/Users/bharath/Documents/ASm/movies.csv')"
   ]
  },
  {
   "cell_type": "code",
   "execution_count": 3,
   "id": "03f47942",
   "metadata": {},
   "outputs": [
    {
     "data": {
      "text/html": [
       "<div>\n",
       "<style scoped>\n",
       "    .dataframe tbody tr th:only-of-type {\n",
       "        vertical-align: middle;\n",
       "    }\n",
       "\n",
       "    .dataframe tbody tr th {\n",
       "        vertical-align: top;\n",
       "    }\n",
       "\n",
       "    .dataframe thead th {\n",
       "        text-align: right;\n",
       "    }\n",
       "</style>\n",
       "<table border=\"1\" class=\"dataframe\">\n",
       "  <thead>\n",
       "    <tr style=\"text-align: right;\">\n",
       "      <th></th>\n",
       "      <th>userId</th>\n",
       "      <th>movieId</th>\n",
       "      <th>rating</th>\n",
       "      <th>timestamp</th>\n",
       "    </tr>\n",
       "  </thead>\n",
       "  <tbody>\n",
       "    <tr>\n",
       "      <th>0</th>\n",
       "      <td>1</td>\n",
       "      <td>1</td>\n",
       "      <td>4.0</td>\n",
       "      <td>964982703</td>\n",
       "    </tr>\n",
       "    <tr>\n",
       "      <th>1</th>\n",
       "      <td>1</td>\n",
       "      <td>3</td>\n",
       "      <td>4.0</td>\n",
       "      <td>964981247</td>\n",
       "    </tr>\n",
       "    <tr>\n",
       "      <th>2</th>\n",
       "      <td>1</td>\n",
       "      <td>6</td>\n",
       "      <td>4.0</td>\n",
       "      <td>964982224</td>\n",
       "    </tr>\n",
       "    <tr>\n",
       "      <th>3</th>\n",
       "      <td>1</td>\n",
       "      <td>47</td>\n",
       "      <td>5.0</td>\n",
       "      <td>964983815</td>\n",
       "    </tr>\n",
       "    <tr>\n",
       "      <th>4</th>\n",
       "      <td>1</td>\n",
       "      <td>50</td>\n",
       "      <td>5.0</td>\n",
       "      <td>964982931</td>\n",
       "    </tr>\n",
       "  </tbody>\n",
       "</table>\n",
       "</div>"
      ],
      "text/plain": [
       "   userId  movieId  rating  timestamp\n",
       "0       1        1     4.0  964982703\n",
       "1       1        3     4.0  964981247\n",
       "2       1        6     4.0  964982224\n",
       "3       1       47     5.0  964983815\n",
       "4       1       50     5.0  964982931"
      ]
     },
     "execution_count": 3,
     "metadata": {},
     "output_type": "execute_result"
    }
   ],
   "source": [
    "ratings.head()"
   ]
  },
  {
   "cell_type": "markdown",
   "id": "a3a470e3",
   "metadata": {},
   "source": [
    "# Transforming the data"
   ]
  },
  {
   "cell_type": "markdown",
   "id": "0de755ee",
   "metadata": {},
   "source": [
    "## We are going to create a Function that generates a sparse matrix from ratings dataframe."
   ]
  },
  {
   "cell_type": "code",
   "execution_count": 4,
   "id": "99586900",
   "metadata": {},
   "outputs": [],
   "source": [
    "def create_X(df):\n",
    "    N = df['userId'].nunique()\n",
    "    M = df['movieId'].nunique()\n",
    "\n",
    "    user_mapper = dict(zip(np.unique(df[\"userId\"]), list(range(N))))\n",
    "    movie_mapper = dict(zip(np.unique(df[\"movieId\"]), list(range(M))))\n",
    "    \n",
    "    user_inv_mapper = dict(zip(list(range(N)), np.unique(df[\"userId\"])))\n",
    "    movie_inv_mapper = dict(zip(list(range(M)), np.unique(df[\"movieId\"])))\n",
    "    \n",
    "    user_index = [user_mapper[i] for i in df['userId']]\n",
    "    movie_index = [movie_mapper[i] for i in df['movieId']]\n",
    "\n",
    "    X = csr_matrix((df[\"rating\"], (movie_index, user_index)), shape=(M, N))\n",
    "    \n",
    "    return X, user_mapper, movie_mapper, user_inv_mapper, movie_inv_mapper"
   ]
  },
  {
   "cell_type": "code",
   "execution_count": 5,
   "id": "09bb48fe",
   "metadata": {},
   "outputs": [],
   "source": [
    "X, user_mapper, movie_mapper, user_inv_mapper, movie_inv_mapper = create_X(ratings)"
   ]
  },
  {
   "cell_type": "markdown",
   "id": "350d55b0",
   "metadata": {},
   "source": [
    "## Creating Movie Title Mappers"
   ]
  },
  {
   "cell_type": "code",
   "execution_count": 6,
   "id": "7d991ee0",
   "metadata": {},
   "outputs": [
    {
     "name": "stdout",
     "output_type": "stream",
     "text": [
      "Requirement already satisfied: thefuzz in /Users/bharath/opt/anaconda3/lib/python3.9/site-packages (0.19.0)\r\n"
     ]
    },
    {
     "name": "stderr",
     "output_type": "stream",
     "text": [
      "/Users/bharath/opt/anaconda3/lib/python3.9/site-packages/thefuzz/fuzz.py:11: UserWarning: Using slow pure-python SequenceMatcher. Install python-Levenshtein to remove this warning\n",
      "  warnings.warn('Using slow pure-python SequenceMatcher. Install python-Levenshtein to remove this warning')\n"
     ]
    }
   ],
   "source": [
    "!pip install thefuzz\n",
    "from thefuzz import fuzz\n",
    "from thefuzz import process\n",
    "\n",
    "def movie_finder(title):\n",
    "    all_titles = movies['title'].tolist()\n",
    "    closest_match = process.extractOne(title,all_titles)\n",
    "    return closest_match[0]\n",
    "\n",
    "movie_title_mapper = dict(zip(movies['title'], movies['movieId']))\n",
    "movie_title_inv_mapper = dict(zip(movies['movieId'], movies['title']))\n",
    "\n",
    "def get_movie_index(title):\n",
    "    fuzzy_title = movie_finder(title)\n",
    "    movie_id = movie_title_mapper[fuzzy_title]\n",
    "    movie_idx = movie_mapper[movie_id]\n",
    "    return movie_idx\n",
    "\n",
    "def get_movie_title(movie_idx): \n",
    "    movie_id = movie_inv_mapper[movie_idx]\n",
    "    title = movie_title_inv_mapper[movie_id]\n",
    "    return title "
   ]
  },
  {
   "cell_type": "markdown",
   "id": "3e74d841",
   "metadata": {},
   "source": [
    "### It's time to test it out! Let's get the movie index of Legally Blonde."
   ]
  },
  {
   "cell_type": "code",
   "execution_count": 7,
   "id": "027a7ff6",
   "metadata": {},
   "outputs": [
    {
     "data": {
      "text/plain": [
       "3282"
      ]
     },
     "execution_count": 7,
     "metadata": {},
     "output_type": "execute_result"
    }
   ],
   "source": [
    "get_movie_index('Legally Blonde')"
   ]
  },
  {
   "cell_type": "markdown",
   "id": "f6535268",
   "metadata": {},
   "source": [
    "### Let's pass this index value into get_movie_title(). We're expecting Legally Blonde to get returned."
   ]
  },
  {
   "cell_type": "code",
   "execution_count": 8,
   "id": "e4bed093",
   "metadata": {},
   "outputs": [
    {
     "data": {
      "text/plain": [
       "'Legally Blonde (2001)'"
      ]
     },
     "execution_count": 8,
     "metadata": {},
     "output_type": "execute_result"
    }
   ],
   "source": [
    "get_movie_title(3282)"
   ]
  },
  {
   "cell_type": "markdown",
   "id": "082bdeae",
   "metadata": {},
   "source": [
    "## Building Our Implicit Feedback Recommender Model"
   ]
  },
  {
   "cell_type": "code",
   "execution_count": 9,
   "id": "1702dc5d",
   "metadata": {},
   "outputs": [
    {
     "name": "stderr",
     "output_type": "stream",
     "text": [
      "WARNING:root:Intel MKL BLAS detected. Its highly recommend to set the environment variable 'export MKL_NUM_THREADS=1' to disable its internal multithreading\n"
     ]
    }
   ],
   "source": [
    "model = implicit.als.AlternatingLeastSquares(factors=50)"
   ]
  },
  {
   "cell_type": "markdown",
   "id": "a52a4935",
   "metadata": {},
   "source": [
    "###  fitting our model with our user-item matrix."
   ]
  },
  {
   "cell_type": "code",
   "execution_count": 10,
   "id": "a1474965",
   "metadata": {},
   "outputs": [
    {
     "data": {
      "application/vnd.jupyter.widget-view+json": {
       "model_id": "b5266256e0714f018cd7ae75519b2732",
       "version_major": 2,
       "version_minor": 0
      },
      "text/plain": [
       "  0%|          | 0/15 [00:00<?, ?it/s]"
      ]
     },
     "metadata": {},
     "output_type": "display_data"
    }
   ],
   "source": [
    "model.fit(X)"
   ]
  },
  {
   "cell_type": "markdown",
   "id": "4d701e92",
   "metadata": {},
   "source": [
    "### Now, let's test out the model's recommendations. We can use the model's similar_items() method which returns the most relevant movies of a given movie. We can use our helpful get_movie_index() function to get the movie index of the movie that we're interested in."
   ]
  },
  {
   "cell_type": "code",
   "execution_count": 11,
   "id": "cbd8de7b",
   "metadata": {},
   "outputs": [
    {
     "data": {
      "text/plain": [
       "[(314, 1.0),\n",
       " (277, 0.92106205),\n",
       " (510, 0.85805476),\n",
       " (257, 0.85661566),\n",
       " (461, 0.76611966),\n",
       " (97, 0.7537822),\n",
       " (418, 0.7102524),\n",
       " (43, 0.6950457),\n",
       " (123, 0.6937208),\n",
       " (46, 0.6629923)]"
      ]
     },
     "execution_count": 11,
     "metadata": {},
     "output_type": "execute_result"
    }
   ],
   "source": [
    "movie_of_interest = 'forrest gump'\n",
    "\n",
    "movie_index = get_movie_index(movie_of_interest)\n",
    "related = model.similar_items(movie_index)\n",
    "related"
   ]
  },
  {
   "cell_type": "markdown",
   "id": "45666dbe",
   "metadata": {},
   "source": [
    "### The output of similar_items() is not user-friendly. We'll need to use our get_movie_title() function to interpret what our results are."
   ]
  },
  {
   "cell_type": "code",
   "execution_count": 12,
   "id": "6e422d90",
   "metadata": {},
   "outputs": [
    {
     "name": "stdout",
     "output_type": "stream",
     "text": [
      "Because you watched Forrest Gump (1994)...\n",
      "Shawshank Redemption, The (1994)\n",
      "Silence of the Lambs, The (1991)\n",
      "Pulp Fiction (1994)\n",
      "Schindler's List (1993)\n",
      "Braveheart (1995)\n",
      "Jurassic Park (1993)\n",
      "Seven (a.k.a. Se7en) (1995)\n",
      "Apollo 13 (1995)\n",
      "Usual Suspects, The (1995)\n"
     ]
    }
   ],
   "source": [
    "print(f\"Because you watched {movie_finder(movie_of_interest)}...\")\n",
    "for r in related:\n",
    "    recommended_title = get_movie_title(r[0])\n",
    "    if recommended_title != movie_finder(movie_of_interest):\n",
    "        print(recommended_title)"
   ]
  },
  {
   "cell_type": "markdown",
   "id": "2d8a295c",
   "metadata": {},
   "source": [
    "# Generating User-Item Recommendations"
   ]
  },
  {
   "cell_type": "code",
   "execution_count": 13,
   "id": "e66dba0f",
   "metadata": {},
   "outputs": [],
   "source": [
    "user_id = 95"
   ]
  },
  {
   "cell_type": "code",
   "execution_count": 14,
   "id": "80d22cb7",
   "metadata": {},
   "outputs": [
    {
     "name": "stdout",
     "output_type": "stream",
     "text": [
      "Number of movies rated by user 95: 168\n"
     ]
    }
   ],
   "source": [
    "user_ratings = ratings[ratings['userId']==user_id].merge(movies[['movieId', 'title']])\n",
    "user_ratings = user_ratings.sort_values('rating', ascending=False)\n",
    "print(f\"Number of movies rated by user {user_id}: {user_ratings['movieId'].nunique()}\")"
   ]
  },
  {
   "cell_type": "markdown",
   "id": "1edbdc04",
   "metadata": {},
   "source": [
    "### User 95 watched 168 movies. Their highest rated movies are below:"
   ]
  },
  {
   "cell_type": "code",
   "execution_count": 15,
   "id": "3b6d548f",
   "metadata": {},
   "outputs": [
    {
     "data": {
      "text/html": [
       "<div>\n",
       "<style scoped>\n",
       "    .dataframe tbody tr th:only-of-type {\n",
       "        vertical-align: middle;\n",
       "    }\n",
       "\n",
       "    .dataframe tbody tr th {\n",
       "        vertical-align: top;\n",
       "    }\n",
       "\n",
       "    .dataframe thead th {\n",
       "        text-align: right;\n",
       "    }\n",
       "</style>\n",
       "<table border=\"1\" class=\"dataframe\">\n",
       "  <thead>\n",
       "    <tr style=\"text-align: right;\">\n",
       "      <th></th>\n",
       "      <th>userId</th>\n",
       "      <th>movieId</th>\n",
       "      <th>rating</th>\n",
       "      <th>timestamp</th>\n",
       "      <th>title</th>\n",
       "    </tr>\n",
       "  </thead>\n",
       "  <tbody>\n",
       "    <tr>\n",
       "      <th>24</th>\n",
       "      <td>95</td>\n",
       "      <td>1089</td>\n",
       "      <td>5.0</td>\n",
       "      <td>1048382826</td>\n",
       "      <td>Reservoir Dogs (1992)</td>\n",
       "    </tr>\n",
       "    <tr>\n",
       "      <th>34</th>\n",
       "      <td>95</td>\n",
       "      <td>1221</td>\n",
       "      <td>5.0</td>\n",
       "      <td>1043340018</td>\n",
       "      <td>Godfather: Part II, The (1974)</td>\n",
       "    </tr>\n",
       "    <tr>\n",
       "      <th>83</th>\n",
       "      <td>95</td>\n",
       "      <td>3019</td>\n",
       "      <td>5.0</td>\n",
       "      <td>1043340112</td>\n",
       "      <td>Drugstore Cowboy (1989)</td>\n",
       "    </tr>\n",
       "    <tr>\n",
       "      <th>26</th>\n",
       "      <td>95</td>\n",
       "      <td>1175</td>\n",
       "      <td>5.0</td>\n",
       "      <td>1105400882</td>\n",
       "      <td>Delicatessen (1991)</td>\n",
       "    </tr>\n",
       "    <tr>\n",
       "      <th>27</th>\n",
       "      <td>95</td>\n",
       "      <td>1196</td>\n",
       "      <td>5.0</td>\n",
       "      <td>1043340018</td>\n",
       "      <td>Star Wars: Episode V - The Empire Strikes Back...</td>\n",
       "    </tr>\n",
       "  </tbody>\n",
       "</table>\n",
       "</div>"
      ],
      "text/plain": [
       "    userId  movieId  rating   timestamp  \\\n",
       "24      95     1089     5.0  1048382826   \n",
       "34      95     1221     5.0  1043340018   \n",
       "83      95     3019     5.0  1043340112   \n",
       "26      95     1175     5.0  1105400882   \n",
       "27      95     1196     5.0  1043340018   \n",
       "\n",
       "                                                title  \n",
       "24                              Reservoir Dogs (1992)  \n",
       "34                     Godfather: Part II, The (1974)  \n",
       "83                            Drugstore Cowboy (1989)  \n",
       "26                                Delicatessen (1991)  \n",
       "27  Star Wars: Episode V - The Empire Strikes Back...  "
      ]
     },
     "execution_count": 15,
     "metadata": {},
     "output_type": "execute_result"
    }
   ],
   "source": [
    "user_ratings = ratings[ratings['userId']==user_id].merge(movies[['movieId', 'title']])\n",
    "user_ratings = user_ratings.sort_values('rating', ascending=False)\n",
    "top_5 = user_ratings.head()\n",
    "top_5"
   ]
  },
  {
   "cell_type": "markdown",
   "id": "2fed6c0e",
   "metadata": {},
   "source": [
    "### Their lowest rated movies:"
   ]
  },
  {
   "cell_type": "code",
   "execution_count": 16,
   "id": "2817578f",
   "metadata": {},
   "outputs": [
    {
     "data": {
      "text/html": [
       "<div>\n",
       "<style scoped>\n",
       "    .dataframe tbody tr th:only-of-type {\n",
       "        vertical-align: middle;\n",
       "    }\n",
       "\n",
       "    .dataframe tbody tr th {\n",
       "        vertical-align: top;\n",
       "    }\n",
       "\n",
       "    .dataframe thead th {\n",
       "        text-align: right;\n",
       "    }\n",
       "</style>\n",
       "<table border=\"1\" class=\"dataframe\">\n",
       "  <thead>\n",
       "    <tr style=\"text-align: right;\">\n",
       "      <th></th>\n",
       "      <th>userId</th>\n",
       "      <th>movieId</th>\n",
       "      <th>rating</th>\n",
       "      <th>timestamp</th>\n",
       "      <th>title</th>\n",
       "    </tr>\n",
       "  </thead>\n",
       "  <tbody>\n",
       "    <tr>\n",
       "      <th>93</th>\n",
       "      <td>95</td>\n",
       "      <td>3690</td>\n",
       "      <td>2.0</td>\n",
       "      <td>1043339908</td>\n",
       "      <td>Porky's Revenge (1985)</td>\n",
       "    </tr>\n",
       "    <tr>\n",
       "      <th>122</th>\n",
       "      <td>95</td>\n",
       "      <td>5283</td>\n",
       "      <td>2.0</td>\n",
       "      <td>1043339957</td>\n",
       "      <td>National Lampoon's Van Wilder (2002)</td>\n",
       "    </tr>\n",
       "    <tr>\n",
       "      <th>100</th>\n",
       "      <td>95</td>\n",
       "      <td>4015</td>\n",
       "      <td>2.0</td>\n",
       "      <td>1043339957</td>\n",
       "      <td>Dude, Where's My Car? (2000)</td>\n",
       "    </tr>\n",
       "    <tr>\n",
       "      <th>164</th>\n",
       "      <td>95</td>\n",
       "      <td>7373</td>\n",
       "      <td>1.0</td>\n",
       "      <td>1105401093</td>\n",
       "      <td>Hellboy (2004)</td>\n",
       "    </tr>\n",
       "    <tr>\n",
       "      <th>109</th>\n",
       "      <td>95</td>\n",
       "      <td>4732</td>\n",
       "      <td>1.0</td>\n",
       "      <td>1043339283</td>\n",
       "      <td>Bubble Boy (2001)</td>\n",
       "    </tr>\n",
       "  </tbody>\n",
       "</table>\n",
       "</div>"
      ],
      "text/plain": [
       "     userId  movieId  rating   timestamp                                 title\n",
       "93       95     3690     2.0  1043339908                Porky's Revenge (1985)\n",
       "122      95     5283     2.0  1043339957  National Lampoon's Van Wilder (2002)\n",
       "100      95     4015     2.0  1043339957          Dude, Where's My Car? (2000)\n",
       "164      95     7373     1.0  1105401093                        Hellboy (2004)\n",
       "109      95     4732     1.0  1043339283                     Bubble Boy (2001)"
      ]
     },
     "execution_count": 16,
     "metadata": {},
     "output_type": "execute_result"
    }
   ],
   "source": [
    "bottom_5 = user_ratings[user_ratings['rating']<3].tail()\n",
    "bottom_5"
   ]
  },
  {
   "cell_type": "markdown",
   "id": "527ab877",
   "metadata": {},
   "source": [
    "### We'll use the recommend() method, which takes in the user index of interest and transposed user-item matrix."
   ]
  },
  {
   "cell_type": "code",
   "execution_count": 17,
   "id": "a2f18aa0",
   "metadata": {},
   "outputs": [
    {
     "data": {
      "text/plain": [
       "[(855, 1.2092698),\n",
       " (898, 0.9775134),\n",
       " (1644, 0.9395924),\n",
       " (15, 0.89407647),\n",
       " (5, 0.80936944),\n",
       " (2258, 0.8077935),\n",
       " (3633, 0.80654395),\n",
       " (1043, 0.80218315),\n",
       " (1210, 0.784987),\n",
       " (46, 0.76805365)]"
      ]
     },
     "execution_count": 17,
     "metadata": {},
     "output_type": "execute_result"
    }
   ],
   "source": [
    "X_t = X.T.tocsr()\n",
    "\n",
    "user_idx = user_mapper[user_id]\n",
    "recommendations = model.recommend(user_idx, X_t)\n",
    "recommendations"
   ]
  },
  {
   "cell_type": "markdown",
   "id": "f4491f9c",
   "metadata": {},
   "source": [
    "### We can't interpret the results as is since movies are represented by their index. We'll have to loop over the list of recommendations and get the movie title for each movie index."
   ]
  },
  {
   "cell_type": "code",
   "execution_count": 18,
   "id": "a3a16f44",
   "metadata": {},
   "outputs": [
    {
     "name": "stdout",
     "output_type": "stream",
     "text": [
      "Abyss, The (1989)\n",
      "Princess Bride, The (1987)\n",
      "Untouchables, The (1987)\n",
      "Casino (1995)\n",
      "Heat (1995)\n",
      "Princess Mononoke (Mononoke-hime) (1997)\n",
      "Lord of the Rings: The Fellowship of the Ring, The (2001)\n",
      "Star Trek: First Contact (1996)\n",
      "Hunt for Red October, The (1990)\n",
      "Usual Suspects, The (1995)\n"
     ]
    }
   ],
   "source": [
    "for r in recommendations:\n",
    "    recommended_title = get_movie_title(r[0])\n",
    "    print(recommended_title)"
   ]
  },
  {
   "cell_type": "markdown",
   "id": "f84de9ba",
   "metadata": {},
   "source": [
    "### User 95's recommendations consist of action, crime, and thrillers. None of their recommendations are comedies."
   ]
  }
 ],
 "metadata": {
  "kernelspec": {
   "display_name": "Python 3 (ipykernel)",
   "language": "python",
   "name": "python3"
  },
  "language_info": {
   "codemirror_mode": {
    "name": "ipython",
    "version": 3
   },
   "file_extension": ".py",
   "mimetype": "text/x-python",
   "name": "python",
   "nbconvert_exporter": "python",
   "pygments_lexer": "ipython3",
   "version": "3.9.13"
  }
 },
 "nbformat": 4,
 "nbformat_minor": 5
}
